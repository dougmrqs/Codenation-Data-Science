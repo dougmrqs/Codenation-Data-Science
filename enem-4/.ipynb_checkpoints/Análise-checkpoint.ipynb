{
 "cells": [
  {
   "cell_type": "markdown",
   "metadata": {},
   "source": [
    "## Objetivo\n",
    "\n",
    "Modelar um classificador de alunos que prestaram o ENEM apenas para finalidade de treineiro."
   ]
  },
  {
   "cell_type": "code",
   "execution_count": 242,
   "metadata": {},
   "outputs": [],
   "source": [
    "import pandas as pd"
   ]
  },
  {
   "cell_type": "code",
   "execution_count": 243,
   "metadata": {},
   "outputs": [],
   "source": [
    "%matplotlib inline  \n"
   ]
  },
  {
   "cell_type": "code",
   "execution_count": 244,
   "metadata": {},
   "outputs": [],
   "source": [
    "train = pd.read_csv('train.csv')\n",
    "test = pd.read_csv('test.csv')"
   ]
  },
  {
   "cell_type": "code",
   "execution_count": 245,
   "metadata": {},
   "outputs": [
    {
     "name": "stdout",
     "output_type": "stream",
     "text": [
      "(13730, 167) (4570, 43)\n"
     ]
    }
   ],
   "source": [
    "print(train.shape, test.shape)"
   ]
  },
  {
   "cell_type": "markdown",
   "metadata": {},
   "source": [
    "## Análise dos dados"
   ]
  },
  {
   "cell_type": "markdown",
   "metadata": {},
   "source": [
    "Baseado nas formas dos datasets, percebe-se que muitas features não estão presentes no set de teste. É esperado então que sejam trabalhadas apenas as colunas presentes no set de teste.\n",
    "\n",
    "Como já discutido, o foco da análise é a variável `IN_TREINEIRO`"
   ]
  },
  {
   "cell_type": "code",
   "execution_count": 246,
   "metadata": {},
   "outputs": [
    {
     "data": {
      "text/plain": [
       "Index(['NU_INSCRICAO', 'CO_UF_RESIDENCIA', 'SG_UF_RESIDENCIA', 'NU_IDADE',\n",
       "       'TP_SEXO', 'TP_COR_RACA', 'TP_NACIONALIDADE', 'TP_ST_CONCLUSAO',\n",
       "       'TP_ANO_CONCLUIU', 'TP_ESCOLA', 'TP_ENSINO', 'TP_DEPENDENCIA_ADM_ESC',\n",
       "       'IN_BAIXA_VISAO', 'IN_CEGUEIRA', 'IN_SURDEZ', 'IN_DISLEXIA',\n",
       "       'IN_DISCALCULIA', 'IN_SABATISTA', 'IN_GESTANTE', 'IN_IDOSO',\n",
       "       'TP_PRESENCA_CN', 'TP_PRESENCA_CH', 'TP_PRESENCA_LC', 'TP_PRESENCA_MT',\n",
       "       'NU_NOTA_CN', 'NU_NOTA_CH', 'NU_NOTA_LC', 'TP_LINGUA',\n",
       "       'TP_STATUS_REDACAO', 'NU_NOTA_COMP1', 'NU_NOTA_COMP2', 'NU_NOTA_COMP3',\n",
       "       'NU_NOTA_COMP4', 'NU_NOTA_COMP5', 'NU_NOTA_REDACAO', 'Q001', 'Q002',\n",
       "       'Q006', 'Q024', 'Q025', 'Q026', 'Q027', 'Q047'],\n",
       "      dtype='object')"
      ]
     },
     "execution_count": 246,
     "metadata": {},
     "output_type": "execute_result"
    }
   ],
   "source": [
    "test.columns"
   ]
  },
  {
   "cell_type": "code",
   "execution_count": 247,
   "metadata": {},
   "outputs": [],
   "source": [
    "colunas = ['NU_INSCRICAO', 'CO_UF_RESIDENCIA', 'SG_UF_RESIDENCIA', 'NU_IDADE',\n",
    "       'TP_SEXO', 'TP_COR_RACA', 'TP_NACIONALIDADE', 'TP_ST_CONCLUSAO',\n",
    "       'TP_ANO_CONCLUIU', 'TP_ESCOLA', \n",
    "       'TP_PRESENCA_CN', 'TP_PRESENCA_CH', 'TP_PRESENCA_LC', 'TP_PRESENCA_MT',\n",
    "       'NU_NOTA_CN', 'NU_NOTA_CH', 'NU_NOTA_LC', 'TP_LINGUA',\n",
    "       'NU_NOTA_COMP1', 'NU_NOTA_COMP2', 'NU_NOTA_COMP3',\n",
    "       'NU_NOTA_COMP4', 'NU_NOTA_COMP5', 'NU_NOTA_REDACAO', \n",
    "       'Q001', 'Q002', 'Q006', 'Q024', 'Q025', 'Q026', 'Q047']\n",
    "\n",
    "colunas = colunas + ['IN_TREINEIRO']\n",
    "\n",
    "train = train[colunas]"
   ]
  },
  {
   "cell_type": "code",
   "execution_count": 248,
   "metadata": {},
   "outputs": [
    {
     "data": {
      "text/plain": [
       "0"
      ]
     },
     "execution_count": 248,
     "metadata": {},
     "output_type": "execute_result"
    }
   ],
   "source": [
    "train.IN_TREINEIRO.isna().sum()"
   ]
  },
  {
   "cell_type": "code",
   "execution_count": 249,
   "metadata": {},
   "outputs": [
    {
     "data": {
      "text/plain": [
       "0    11947\n",
       "1     1783\n",
       "Name: IN_TREINEIRO, dtype: int64"
      ]
     },
     "execution_count": 249,
     "metadata": {},
     "output_type": "execute_result"
    }
   ],
   "source": [
    "train.IN_TREINEIRO.value_counts()"
   ]
  },
  {
   "cell_type": "code",
   "execution_count": 250,
   "metadata": {},
   "outputs": [
    {
     "data": {
      "text/plain": [
       "CO_UF_RESIDENCIA   -0.034944\n",
       "NU_IDADE           -0.295091\n",
       "TP_COR_RACA         0.009676\n",
       "TP_NACIONALIDADE   -0.015179\n",
       "TP_ST_CONCLUSAO     0.533983\n",
       "TP_ANO_CONCLUIU    -0.257710\n",
       "TP_ESCOLA          -0.244562\n",
       "TP_PRESENCA_CN      0.094692\n",
       "TP_PRESENCA_CH      0.094692\n",
       "TP_PRESENCA_LC      0.092454\n",
       "TP_PRESENCA_MT      0.092454\n",
       "NU_NOTA_CN         -0.037874\n",
       "NU_NOTA_CH         -0.053460\n",
       "NU_NOTA_LC         -0.028261\n",
       "TP_LINGUA          -0.036395\n",
       "NU_NOTA_COMP1      -0.008709\n",
       "NU_NOTA_COMP2      -0.023308\n",
       "NU_NOTA_COMP3      -0.030147\n",
       "NU_NOTA_COMP4      -0.025958\n",
       "NU_NOTA_COMP5      -0.025811\n",
       "NU_NOTA_REDACAO    -0.026328\n",
       "IN_TREINEIRO        1.000000\n",
       "Name: IN_TREINEIRO, dtype: float64"
      ]
     },
     "execution_count": 250,
     "metadata": {},
     "output_type": "execute_result"
    }
   ],
   "source": [
    "train.corr().IN_TREINEIRO"
   ]
  },
  {
   "cell_type": "markdown",
   "metadata": {},
   "source": [
    "Foram features com correlação medida maior ou menos que 0.2"
   ]
  },
  {
   "cell_type": "code",
   "execution_count": 251,
   "metadata": {},
   "outputs": [],
   "source": [
    "fts_relevantes = ['NU_INSCRICAO', 'NU_IDADE', 'TP_ST_CONCLUSAO', 'TP_ANO_CONCLUIU', 'TP_ESCOLA']\n",
    "target = ['IN_TREINEIRO']"
   ]
  },
  {
   "cell_type": "code",
   "execution_count": 252,
   "metadata": {},
   "outputs": [
    {
     "data": {
      "text/html": [
       "<div>\n",
       "<style scoped>\n",
       "    .dataframe tbody tr th:only-of-type {\n",
       "        vertical-align: middle;\n",
       "    }\n",
       "\n",
       "    .dataframe tbody tr th {\n",
       "        vertical-align: top;\n",
       "    }\n",
       "\n",
       "    .dataframe thead th {\n",
       "        text-align: right;\n",
       "    }\n",
       "</style>\n",
       "<table border=\"1\" class=\"dataframe\">\n",
       "  <thead>\n",
       "    <tr style=\"text-align: right;\">\n",
       "      <th></th>\n",
       "      <th>NU_INSCRICAO</th>\n",
       "      <th>NU_IDADE</th>\n",
       "      <th>TP_ST_CONCLUSAO</th>\n",
       "      <th>TP_ANO_CONCLUIU</th>\n",
       "      <th>TP_ESCOLA</th>\n",
       "      <th>IN_TREINEIRO</th>\n",
       "    </tr>\n",
       "  </thead>\n",
       "  <tbody>\n",
       "    <tr>\n",
       "      <th>0</th>\n",
       "      <td>ed50e8aaa58e7a806c337585efee9ca41f1eb1ad</td>\n",
       "      <td>24</td>\n",
       "      <td>1</td>\n",
       "      <td>4</td>\n",
       "      <td>1</td>\n",
       "      <td>0</td>\n",
       "    </tr>\n",
       "    <tr>\n",
       "      <th>1</th>\n",
       "      <td>2c3acac4b33ec2b195d77e7c04a2d75727fad723</td>\n",
       "      <td>17</td>\n",
       "      <td>2</td>\n",
       "      <td>0</td>\n",
       "      <td>2</td>\n",
       "      <td>0</td>\n",
       "    </tr>\n",
       "    <tr>\n",
       "      <th>2</th>\n",
       "      <td>f4545f8ccb9ff5c8aad7d32951b3f251a26e6568</td>\n",
       "      <td>21</td>\n",
       "      <td>3</td>\n",
       "      <td>0</td>\n",
       "      <td>1</td>\n",
       "      <td>0</td>\n",
       "    </tr>\n",
       "    <tr>\n",
       "      <th>3</th>\n",
       "      <td>3d6ec248fef899c414e77f82d5c6d2bffbeaf7fe</td>\n",
       "      <td>25</td>\n",
       "      <td>1</td>\n",
       "      <td>9</td>\n",
       "      <td>1</td>\n",
       "      <td>0</td>\n",
       "    </tr>\n",
       "    <tr>\n",
       "      <th>4</th>\n",
       "      <td>bf896ac8d3ecadd6dba1dfbf50110afcbf5d3268</td>\n",
       "      <td>28</td>\n",
       "      <td>1</td>\n",
       "      <td>4</td>\n",
       "      <td>1</td>\n",
       "      <td>0</td>\n",
       "    </tr>\n",
       "  </tbody>\n",
       "</table>\n",
       "</div>"
      ],
      "text/plain": [
       "                               NU_INSCRICAO  NU_IDADE  TP_ST_CONCLUSAO  \\\n",
       "0  ed50e8aaa58e7a806c337585efee9ca41f1eb1ad        24                1   \n",
       "1  2c3acac4b33ec2b195d77e7c04a2d75727fad723        17                2   \n",
       "2  f4545f8ccb9ff5c8aad7d32951b3f251a26e6568        21                3   \n",
       "3  3d6ec248fef899c414e77f82d5c6d2bffbeaf7fe        25                1   \n",
       "4  bf896ac8d3ecadd6dba1dfbf50110afcbf5d3268        28                1   \n",
       "\n",
       "   TP_ANO_CONCLUIU  TP_ESCOLA  IN_TREINEIRO  \n",
       "0                4          1             0  \n",
       "1                0          2             0  \n",
       "2                0          1             0  \n",
       "3                9          1             0  \n",
       "4                4          1             0  "
      ]
     },
     "execution_count": 252,
     "metadata": {},
     "output_type": "execute_result"
    }
   ],
   "source": [
    "train = train[fts_relevantes + target]\n",
    "train.head()"
   ]
  },
  {
   "cell_type": "markdown",
   "metadata": {},
   "source": [
    "Para que não haja inferência do modelo sobre os valores inteiros que aqui representam categorias, serão obtidas variáveis 'dummies'. "
   ]
  },
  {
   "cell_type": "code",
   "execution_count": 253,
   "metadata": {},
   "outputs": [],
   "source": [
    "dummies = pd.get_dummies(train[['TP_ST_CONCLUSAO', 'TP_ESCOLA']].astype(str))\n",
    "train.drop(['TP_ST_CONCLUSAO', 'TP_ESCOLA'], axis=1, inplace=True)\n",
    "train = pd.concat([train, dummies], axis=1, sort=False)"
   ]
  },
  {
   "cell_type": "code",
   "execution_count": 254,
   "metadata": {},
   "outputs": [
    {
     "data": {
      "text/plain": [
       "NU_IDADE            -0.295091\n",
       "TP_ANO_CONCLUIU     -0.257710\n",
       "IN_TREINEIRO         1.000000\n",
       "TP_ST_CONCLUSAO_1   -0.367584\n",
       "TP_ST_CONCLUSAO_2   -0.260120\n",
       "TP_ST_CONCLUSAO_3    0.859856\n",
       "TP_ST_CONCLUSAO_4   -0.083799\n",
       "TP_ESCOLA_1          0.260120\n",
       "TP_ESCOLA_2         -0.235201\n",
       "TP_ESCOLA_3         -0.080326\n",
       "TP_ESCOLA_4         -0.003297\n",
       "Name: IN_TREINEIRO, dtype: float64"
      ]
     },
     "execution_count": 254,
     "metadata": {},
     "output_type": "execute_result"
    }
   ],
   "source": [
    "train.corr().IN_TREINEIRO"
   ]
  },
  {
   "cell_type": "markdown",
   "metadata": {},
   "source": [
    "### Balanceamento do dataset com *undersampling*\n",
    "\n",
    "Será selecionada uma amostra com a categoria mais numerosa."
   ]
  },
  {
   "cell_type": "code",
   "execution_count": 255,
   "metadata": {},
   "outputs": [],
   "source": [
    "df_train = pd.concat([train.query('IN_TREINEIRO == 1'), train.query('IN_TREINEIRO == 0').sample(1783, \n",
    "                        random_state=42)], sort=False)"
   ]
  },
  {
   "cell_type": "code",
   "execution_count": 256,
   "metadata": {},
   "outputs": [
    {
     "data": {
      "text/plain": [
       "1    1783\n",
       "0    1783\n",
       "Name: IN_TREINEIRO, dtype: int64"
      ]
     },
     "execution_count": 256,
     "metadata": {},
     "output_type": "execute_result"
    }
   ],
   "source": [
    "df_train.IN_TREINEIRO.value_counts()"
   ]
  },
  {
   "cell_type": "code",
   "execution_count": 257,
   "metadata": {},
   "outputs": [],
   "source": [
    "y = df_train.IN_TREINEIRO\n",
    "X = df_train.drop('IN_TREINEIRO', axis=1)"
   ]
  },
  {
   "cell_type": "markdown",
   "metadata": {},
   "source": [
    "### Ajuste do set de teste"
   ]
  },
  {
   "cell_type": "code",
   "execution_count": 258,
   "metadata": {},
   "outputs": [],
   "source": [
    "test = test[fts_relevantes]"
   ]
  },
  {
   "cell_type": "code",
   "execution_count": 259,
   "metadata": {},
   "outputs": [],
   "source": [
    "dummies = pd.get_dummies(test[['TP_ST_CONCLUSAO', 'TP_ESCOLA']].astype(str))\n",
    "test.drop(['TP_ST_CONCLUSAO', 'TP_ESCOLA'], axis=1, inplace=True)\n",
    "test = pd.concat([test, dummies], axis=1, sort=False)"
   ]
  },
  {
   "cell_type": "markdown",
   "metadata": {},
   "source": [
    "### AutoML"
   ]
  },
  {
   "cell_type": "code",
   "execution_count": 188,
   "metadata": {},
   "outputs": [
    {
     "name": "stdout",
     "output_type": "stream",
     "text": [
      "Warning: xgboost.XGBClassifier is not available and will not be used by TPOT.\n"
     ]
    },
    {
     "data": {
      "application/vnd.jupyter.widget-view+json": {
       "model_id": "",
       "version_major": 2,
       "version_minor": 0
      },
      "text/plain": [
       "HBox(children=(FloatProgress(value=0.0, description='Optimization Progress', max=300.0, style=ProgressStyle(de…"
      ]
     },
     "metadata": {},
     "output_type": "display_data"
    },
    {
     "name": "stdout",
     "output_type": "stream",
     "text": [
      "\n",
      "Generation 1 - Current best internal CV score: 0.9913990689208582\n",
      "Generation 2 - Current best internal CV score: 0.9913990689208582\n",
      "Generation 3 - Current best internal CV score: 0.9913990689208582\n",
      "Generation 4 - Current best internal CV score: 0.9913990689208582\n",
      "Generation 5 - Current best internal CV score: 0.9913990689208582\n",
      "Best pipeline: RandomForestClassifier(input_matrix, bootstrap=True, criterion=gini, max_features=0.15000000000000002, min_samples_leaf=11, min_samples_split=13, n_estimators=100)\n",
      "0.9966367713004485\n"
     ]
    }
   ],
   "source": [
    "from tpot import TPOTClassifier\n",
    "from sklearn.model_selection import train_test_split\n",
    "\n",
    "X_train, X_test, y_train, y_test = train_test_split(X, y, train_size=0.75, test_size=0.25)\n",
    "\n",
    "tpot = TPOTClassifier(generations=5, population_size=50, verbosity=2)\n",
    "tpot.fit(X_train, y_train)\n",
    "print(tpot.score(X_test, y_test))"
   ]
  },
  {
   "cell_type": "code",
   "execution_count": 264,
   "metadata": {},
   "outputs": [],
   "source": [
    "predictions = tpot.predict(test.drop('NU_INSCRICAO', axis=1))"
   ]
  },
  {
   "cell_type": "code",
   "execution_count": 267,
   "metadata": {},
   "outputs": [],
   "source": [
    "solution = pd.DataFrame({\"NU_INSCRICAO\": test.NU_INSCRICAO, \"IN_TREINEIRO\": predictions})\n",
    "solution.to_csv(\"answer.csv\", index = False)"
   ]
  },
  {
   "cell_type": "code",
   "execution_count": 268,
   "metadata": {},
   "outputs": [
    {
     "data": {
      "text/html": [
       "<div>\n",
       "<style scoped>\n",
       "    .dataframe tbody tr th:only-of-type {\n",
       "        vertical-align: middle;\n",
       "    }\n",
       "\n",
       "    .dataframe tbody tr th {\n",
       "        vertical-align: top;\n",
       "    }\n",
       "\n",
       "    .dataframe thead th {\n",
       "        text-align: right;\n",
       "    }\n",
       "</style>\n",
       "<table border=\"1\" class=\"dataframe\">\n",
       "  <thead>\n",
       "    <tr style=\"text-align: right;\">\n",
       "      <th></th>\n",
       "      <th>NU_INSCRICAO</th>\n",
       "      <th>IN_TREINEIRO</th>\n",
       "    </tr>\n",
       "  </thead>\n",
       "  <tbody>\n",
       "    <tr>\n",
       "      <th>0</th>\n",
       "      <td>ba0cc30ba34e7a46764c09dfc38ed83d15828897</td>\n",
       "      <td>0</td>\n",
       "    </tr>\n",
       "    <tr>\n",
       "      <th>1</th>\n",
       "      <td>177f281c68fa032aedbd842a745da68490926cd2</td>\n",
       "      <td>0</td>\n",
       "    </tr>\n",
       "    <tr>\n",
       "      <th>2</th>\n",
       "      <td>6cf0d8b97597d7625cdedc7bdb6c0f052286c334</td>\n",
       "      <td>1</td>\n",
       "    </tr>\n",
       "    <tr>\n",
       "      <th>3</th>\n",
       "      <td>5c356d810fa57671402502cd0933e5601a2ebf1e</td>\n",
       "      <td>0</td>\n",
       "    </tr>\n",
       "    <tr>\n",
       "      <th>4</th>\n",
       "      <td>df47c07bd881c2db3f38c6048bf77c132ad0ceb3</td>\n",
       "      <td>0</td>\n",
       "    </tr>\n",
       "    <tr>\n",
       "      <th>5</th>\n",
       "      <td>3f28749fb79fb059caf5aed79625a5addfd7a91a</td>\n",
       "      <td>0</td>\n",
       "    </tr>\n",
       "    <tr>\n",
       "      <th>6</th>\n",
       "      <td>bb2a0edddf3c59181a1496390aaaee7f32624d9d</td>\n",
       "      <td>1</td>\n",
       "    </tr>\n",
       "    <tr>\n",
       "      <th>7</th>\n",
       "      <td>cc7cab347fe5455aae983f3701ca40f84dc01949</td>\n",
       "      <td>0</td>\n",
       "    </tr>\n",
       "    <tr>\n",
       "      <th>8</th>\n",
       "      <td>95e9338f1da02f7bfa0e3194130afdccc0fb5457</td>\n",
       "      <td>1</td>\n",
       "    </tr>\n",
       "    <tr>\n",
       "      <th>9</th>\n",
       "      <td>155f84f2ee5b34e658f2adcc70f2ec83e37040cb</td>\n",
       "      <td>0</td>\n",
       "    </tr>\n",
       "    <tr>\n",
       "      <th>10</th>\n",
       "      <td>40f4566da0536c486a34ec6ba85257eaebf3255c</td>\n",
       "      <td>0</td>\n",
       "    </tr>\n",
       "    <tr>\n",
       "      <th>11</th>\n",
       "      <td>366749b2ea3e6023fdbfdbf7c6596dfab31885d9</td>\n",
       "      <td>0</td>\n",
       "    </tr>\n",
       "    <tr>\n",
       "      <th>12</th>\n",
       "      <td>52502d4aca10ad7261a4fe9983ddca1fd8b45c31</td>\n",
       "      <td>0</td>\n",
       "    </tr>\n",
       "    <tr>\n",
       "      <th>13</th>\n",
       "      <td>52b20639bb0294b01c9be89f80cf682ac4d9f133</td>\n",
       "      <td>0</td>\n",
       "    </tr>\n",
       "    <tr>\n",
       "      <th>14</th>\n",
       "      <td>1718c649736b61d49a714f2a1c0a3e37a4d7c3b4</td>\n",
       "      <td>0</td>\n",
       "    </tr>\n",
       "    <tr>\n",
       "      <th>15</th>\n",
       "      <td>2410aa55f6eedc95bf049e118f7686714b7efca7</td>\n",
       "      <td>0</td>\n",
       "    </tr>\n",
       "    <tr>\n",
       "      <th>16</th>\n",
       "      <td>a82ffea78453d320efe7800590c717a32a9b9c7a</td>\n",
       "      <td>0</td>\n",
       "    </tr>\n",
       "    <tr>\n",
       "      <th>17</th>\n",
       "      <td>4a5b86a6ea23f1551456cbf49ed54885992de4ce</td>\n",
       "      <td>1</td>\n",
       "    </tr>\n",
       "    <tr>\n",
       "      <th>18</th>\n",
       "      <td>d3a6a5746484c9046c1fc1f58f5a0a4da252c391</td>\n",
       "      <td>0</td>\n",
       "    </tr>\n",
       "    <tr>\n",
       "      <th>19</th>\n",
       "      <td>d18ae8829870011d4a3b1651e0bfa1640b8e9eb2</td>\n",
       "      <td>0</td>\n",
       "    </tr>\n",
       "    <tr>\n",
       "      <th>20</th>\n",
       "      <td>b79c3f5daf56ab613a6ee75c8ad7d190cca42a78</td>\n",
       "      <td>0</td>\n",
       "    </tr>\n",
       "    <tr>\n",
       "      <th>21</th>\n",
       "      <td>f2a7137f1f083351e14c6625a25cdd6809abb9eb</td>\n",
       "      <td>0</td>\n",
       "    </tr>\n",
       "    <tr>\n",
       "      <th>22</th>\n",
       "      <td>bc9bf0eedfd80d0ce69a6df520b634790f3ce448</td>\n",
       "      <td>0</td>\n",
       "    </tr>\n",
       "    <tr>\n",
       "      <th>23</th>\n",
       "      <td>c567a1f6e1d7a22b58ad729bdc2a4b2836da2039</td>\n",
       "      <td>0</td>\n",
       "    </tr>\n",
       "    <tr>\n",
       "      <th>24</th>\n",
       "      <td>a309ebeff49f88dbab213711495fbb13db2328ef</td>\n",
       "      <td>0</td>\n",
       "    </tr>\n",
       "    <tr>\n",
       "      <th>25</th>\n",
       "      <td>18d4f88a769aa62d7732a5fa610d935893da52ae</td>\n",
       "      <td>0</td>\n",
       "    </tr>\n",
       "    <tr>\n",
       "      <th>26</th>\n",
       "      <td>c4a95595f52e40030703fda3dbfd7a7932395d3b</td>\n",
       "      <td>0</td>\n",
       "    </tr>\n",
       "    <tr>\n",
       "      <th>27</th>\n",
       "      <td>d3464236d53369514fbf151775b514a596a67400</td>\n",
       "      <td>0</td>\n",
       "    </tr>\n",
       "    <tr>\n",
       "      <th>28</th>\n",
       "      <td>eaafa5442e02ae0eb1269507572450c52aa373a6</td>\n",
       "      <td>0</td>\n",
       "    </tr>\n",
       "    <tr>\n",
       "      <th>29</th>\n",
       "      <td>e9e4c0a15dbd4e92cace2e00b95c16ad08632e17</td>\n",
       "      <td>0</td>\n",
       "    </tr>\n",
       "    <tr>\n",
       "      <th>...</th>\n",
       "      <td>...</td>\n",
       "      <td>...</td>\n",
       "    </tr>\n",
       "    <tr>\n",
       "      <th>4540</th>\n",
       "      <td>d4dfcd1c05a30cdbea87c1e98f8663e456c86d0e</td>\n",
       "      <td>0</td>\n",
       "    </tr>\n",
       "    <tr>\n",
       "      <th>4541</th>\n",
       "      <td>77011c6ec5792e28086ba34d0e53faf28e7a0809</td>\n",
       "      <td>0</td>\n",
       "    </tr>\n",
       "    <tr>\n",
       "      <th>4542</th>\n",
       "      <td>89346606f1baa1450cdc099107eeef05342e5852</td>\n",
       "      <td>0</td>\n",
       "    </tr>\n",
       "    <tr>\n",
       "      <th>4543</th>\n",
       "      <td>5f512fb3556a7a567bdca975191c40ca08d492b8</td>\n",
       "      <td>0</td>\n",
       "    </tr>\n",
       "    <tr>\n",
       "      <th>4544</th>\n",
       "      <td>f1f4cbbebcf27ed28d720198a5018fb362875af1</td>\n",
       "      <td>0</td>\n",
       "    </tr>\n",
       "    <tr>\n",
       "      <th>4545</th>\n",
       "      <td>f816860ce5c2b57bd762b58837fe3ba39f59fa2b</td>\n",
       "      <td>0</td>\n",
       "    </tr>\n",
       "    <tr>\n",
       "      <th>4546</th>\n",
       "      <td>1465217e49913041851bc4ba75c17736cb9a6368</td>\n",
       "      <td>0</td>\n",
       "    </tr>\n",
       "    <tr>\n",
       "      <th>4547</th>\n",
       "      <td>29db02b5c661d7ba17547fcb84bb3df3f2345607</td>\n",
       "      <td>0</td>\n",
       "    </tr>\n",
       "    <tr>\n",
       "      <th>4548</th>\n",
       "      <td>3a166e9f4f34e0766e0d8bc74a6caee3a573bc5f</td>\n",
       "      <td>0</td>\n",
       "    </tr>\n",
       "    <tr>\n",
       "      <th>4549</th>\n",
       "      <td>5c755a25a3441f56891e98d571e5237392856fe1</td>\n",
       "      <td>0</td>\n",
       "    </tr>\n",
       "    <tr>\n",
       "      <th>4550</th>\n",
       "      <td>27b674aea91a8a3c6652212e3cc9dd41370095b9</td>\n",
       "      <td>0</td>\n",
       "    </tr>\n",
       "    <tr>\n",
       "      <th>4551</th>\n",
       "      <td>e29324716ee9ce7bea9383480aa98f59c7a6d885</td>\n",
       "      <td>0</td>\n",
       "    </tr>\n",
       "    <tr>\n",
       "      <th>4552</th>\n",
       "      <td>9eaf628037ff65afa2a424d2329a38e80b326f8f</td>\n",
       "      <td>0</td>\n",
       "    </tr>\n",
       "    <tr>\n",
       "      <th>4553</th>\n",
       "      <td>46d949289f8eddad46c9799671a4c1a63d6b2bf1</td>\n",
       "      <td>0</td>\n",
       "    </tr>\n",
       "    <tr>\n",
       "      <th>4554</th>\n",
       "      <td>bfcb0cd5751b3a8d7c7447bec542235242c36caf</td>\n",
       "      <td>1</td>\n",
       "    </tr>\n",
       "    <tr>\n",
       "      <th>4555</th>\n",
       "      <td>b63a50e01747dfd607f88af029ec89324da61966</td>\n",
       "      <td>1</td>\n",
       "    </tr>\n",
       "    <tr>\n",
       "      <th>4556</th>\n",
       "      <td>cdf6d93623ca5116a0d483a8682b5f35eb99f6f3</td>\n",
       "      <td>0</td>\n",
       "    </tr>\n",
       "    <tr>\n",
       "      <th>4557</th>\n",
       "      <td>d4e35bc6c21e119c78c411bdd4ff3bdab7fa7b1b</td>\n",
       "      <td>0</td>\n",
       "    </tr>\n",
       "    <tr>\n",
       "      <th>4558</th>\n",
       "      <td>80689f334285ddc088d8ee19c28bc289de2126e7</td>\n",
       "      <td>0</td>\n",
       "    </tr>\n",
       "    <tr>\n",
       "      <th>4559</th>\n",
       "      <td>1c4d5d329dd792c39e52de9547718d7bdb307ded</td>\n",
       "      <td>0</td>\n",
       "    </tr>\n",
       "    <tr>\n",
       "      <th>4560</th>\n",
       "      <td>e4d38f80b6c869e4748cbef9373a22cc5c775728</td>\n",
       "      <td>0</td>\n",
       "    </tr>\n",
       "    <tr>\n",
       "      <th>4561</th>\n",
       "      <td>ea385ce7d39aa1803bbbe7eb7dd9ff574dbbd7b9</td>\n",
       "      <td>0</td>\n",
       "    </tr>\n",
       "    <tr>\n",
       "      <th>4562</th>\n",
       "      <td>7e3bcf2966378b00af9ca687bcdb8c5c85e9cfeb</td>\n",
       "      <td>0</td>\n",
       "    </tr>\n",
       "    <tr>\n",
       "      <th>4563</th>\n",
       "      <td>3b71684faf93eac1ae36380f35c54253e4b13509</td>\n",
       "      <td>0</td>\n",
       "    </tr>\n",
       "    <tr>\n",
       "      <th>4564</th>\n",
       "      <td>96f0f13cd1e74986eddd4a97bf1a3006a8ce2f74</td>\n",
       "      <td>0</td>\n",
       "    </tr>\n",
       "    <tr>\n",
       "      <th>4565</th>\n",
       "      <td>361b7fcd8867119550fe2af5aa729ffad89a7cf5</td>\n",
       "      <td>0</td>\n",
       "    </tr>\n",
       "    <tr>\n",
       "      <th>4566</th>\n",
       "      <td>d8a0e4c9e29494cc9bba2422bd79333931475ee1</td>\n",
       "      <td>0</td>\n",
       "    </tr>\n",
       "    <tr>\n",
       "      <th>4567</th>\n",
       "      <td>3f1c3388244df8d6521e983a809292d9f3bca643</td>\n",
       "      <td>0</td>\n",
       "    </tr>\n",
       "    <tr>\n",
       "      <th>4568</th>\n",
       "      <td>1778e9c4cef591beb6b986d191d15ed05de816b0</td>\n",
       "      <td>0</td>\n",
       "    </tr>\n",
       "    <tr>\n",
       "      <th>4569</th>\n",
       "      <td>096809759695097e384e766d2d9e23a34fc81610</td>\n",
       "      <td>0</td>\n",
       "    </tr>\n",
       "  </tbody>\n",
       "</table>\n",
       "<p>4570 rows × 2 columns</p>\n",
       "</div>"
      ],
      "text/plain": [
       "                                  NU_INSCRICAO  IN_TREINEIRO\n",
       "0     ba0cc30ba34e7a46764c09dfc38ed83d15828897             0\n",
       "1     177f281c68fa032aedbd842a745da68490926cd2             0\n",
       "2     6cf0d8b97597d7625cdedc7bdb6c0f052286c334             1\n",
       "3     5c356d810fa57671402502cd0933e5601a2ebf1e             0\n",
       "4     df47c07bd881c2db3f38c6048bf77c132ad0ceb3             0\n",
       "5     3f28749fb79fb059caf5aed79625a5addfd7a91a             0\n",
       "6     bb2a0edddf3c59181a1496390aaaee7f32624d9d             1\n",
       "7     cc7cab347fe5455aae983f3701ca40f84dc01949             0\n",
       "8     95e9338f1da02f7bfa0e3194130afdccc0fb5457             1\n",
       "9     155f84f2ee5b34e658f2adcc70f2ec83e37040cb             0\n",
       "10    40f4566da0536c486a34ec6ba85257eaebf3255c             0\n",
       "11    366749b2ea3e6023fdbfdbf7c6596dfab31885d9             0\n",
       "12    52502d4aca10ad7261a4fe9983ddca1fd8b45c31             0\n",
       "13    52b20639bb0294b01c9be89f80cf682ac4d9f133             0\n",
       "14    1718c649736b61d49a714f2a1c0a3e37a4d7c3b4             0\n",
       "15    2410aa55f6eedc95bf049e118f7686714b7efca7             0\n",
       "16    a82ffea78453d320efe7800590c717a32a9b9c7a             0\n",
       "17    4a5b86a6ea23f1551456cbf49ed54885992de4ce             1\n",
       "18    d3a6a5746484c9046c1fc1f58f5a0a4da252c391             0\n",
       "19    d18ae8829870011d4a3b1651e0bfa1640b8e9eb2             0\n",
       "20    b79c3f5daf56ab613a6ee75c8ad7d190cca42a78             0\n",
       "21    f2a7137f1f083351e14c6625a25cdd6809abb9eb             0\n",
       "22    bc9bf0eedfd80d0ce69a6df520b634790f3ce448             0\n",
       "23    c567a1f6e1d7a22b58ad729bdc2a4b2836da2039             0\n",
       "24    a309ebeff49f88dbab213711495fbb13db2328ef             0\n",
       "25    18d4f88a769aa62d7732a5fa610d935893da52ae             0\n",
       "26    c4a95595f52e40030703fda3dbfd7a7932395d3b             0\n",
       "27    d3464236d53369514fbf151775b514a596a67400             0\n",
       "28    eaafa5442e02ae0eb1269507572450c52aa373a6             0\n",
       "29    e9e4c0a15dbd4e92cace2e00b95c16ad08632e17             0\n",
       "...                                        ...           ...\n",
       "4540  d4dfcd1c05a30cdbea87c1e98f8663e456c86d0e             0\n",
       "4541  77011c6ec5792e28086ba34d0e53faf28e7a0809             0\n",
       "4542  89346606f1baa1450cdc099107eeef05342e5852             0\n",
       "4543  5f512fb3556a7a567bdca975191c40ca08d492b8             0\n",
       "4544  f1f4cbbebcf27ed28d720198a5018fb362875af1             0\n",
       "4545  f816860ce5c2b57bd762b58837fe3ba39f59fa2b             0\n",
       "4546  1465217e49913041851bc4ba75c17736cb9a6368             0\n",
       "4547  29db02b5c661d7ba17547fcb84bb3df3f2345607             0\n",
       "4548  3a166e9f4f34e0766e0d8bc74a6caee3a573bc5f             0\n",
       "4549  5c755a25a3441f56891e98d571e5237392856fe1             0\n",
       "4550  27b674aea91a8a3c6652212e3cc9dd41370095b9             0\n",
       "4551  e29324716ee9ce7bea9383480aa98f59c7a6d885             0\n",
       "4552  9eaf628037ff65afa2a424d2329a38e80b326f8f             0\n",
       "4553  46d949289f8eddad46c9799671a4c1a63d6b2bf1             0\n",
       "4554  bfcb0cd5751b3a8d7c7447bec542235242c36caf             1\n",
       "4555  b63a50e01747dfd607f88af029ec89324da61966             1\n",
       "4556  cdf6d93623ca5116a0d483a8682b5f35eb99f6f3             0\n",
       "4557  d4e35bc6c21e119c78c411bdd4ff3bdab7fa7b1b             0\n",
       "4558  80689f334285ddc088d8ee19c28bc289de2126e7             0\n",
       "4559  1c4d5d329dd792c39e52de9547718d7bdb307ded             0\n",
       "4560  e4d38f80b6c869e4748cbef9373a22cc5c775728             0\n",
       "4561  ea385ce7d39aa1803bbbe7eb7dd9ff574dbbd7b9             0\n",
       "4562  7e3bcf2966378b00af9ca687bcdb8c5c85e9cfeb             0\n",
       "4563  3b71684faf93eac1ae36380f35c54253e4b13509             0\n",
       "4564  96f0f13cd1e74986eddd4a97bf1a3006a8ce2f74             0\n",
       "4565  361b7fcd8867119550fe2af5aa729ffad89a7cf5             0\n",
       "4566  d8a0e4c9e29494cc9bba2422bd79333931475ee1             0\n",
       "4567  3f1c3388244df8d6521e983a809292d9f3bca643             0\n",
       "4568  1778e9c4cef591beb6b986d191d15ed05de816b0             0\n",
       "4569  096809759695097e384e766d2d9e23a34fc81610             0\n",
       "\n",
       "[4570 rows x 2 columns]"
      ]
     },
     "execution_count": 268,
     "metadata": {},
     "output_type": "execute_result"
    }
   ],
   "source": [
    "solution"
   ]
  }
 ],
 "metadata": {
  "kernelspec": {
   "display_name": "Python 3",
   "language": "python",
   "name": "python3"
  },
  "language_info": {
   "codemirror_mode": {
    "name": "ipython",
    "version": 3
   },
   "file_extension": ".py",
   "mimetype": "text/x-python",
   "name": "python",
   "nbconvert_exporter": "python",
   "pygments_lexer": "ipython3",
   "version": "3.7.6"
  }
 },
 "nbformat": 4,
 "nbformat_minor": 2
}
